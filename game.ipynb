{
 "cells": [
  {
   "cell_type": "code",
   "execution_count": null,
   "metadata": {
    "collapsed": false
   },
   "outputs": [],
   "source": [
    "from random import*\n",
    "from numpy import*\n",
    "\n",
    "def game(pieces, piecesInGame, number):\n",
    "    if(len(piecesInGamme[number]) != 0):    \n",
    "        dice = randint(1, 6)\n",
    "        if(1):\n",
    "            piece = choice(piecesInGame[number])\n",
    "            pieces[number][piece] += dice\n",
    "            toRemove = pieces[number][piece]\n",
    "            #remove( toRemove, pieces, 0)\n",
    "            if((pieces[number][piece]) > 43):\n",
    "                finish[number] += 1\n",
    "                piecesInGame[number].remove(piece)\n",
    "        #else:\n",
    "            #strategy()\n",
    "    else:\n",
    "        firstMove(pieces, piecesInGame, number)\n"
   ]
  }
 ],
 "metadata": {
  "kernelspec": {
   "display_name": "Python 2 (SageMath)",
   "language": "python",
   "name": "python2"
  },
  "language_info": {
   "codemirror_mode": {
    "name": "ipython",
    "version": 2
   },
   "file_extension": ".py",
   "mimetype": "text/x-python",
   "name": "python",
   "nbconvert_exporter": "python",
   "pygments_lexer": "ipython2",
   "version": "2.7.10"
  }
 },
 "nbformat": 4,
 "nbformat_minor": 0
}
