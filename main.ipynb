{
 "cells": [
  {
   "cell_type": "code",
   "execution_count": 72,
   "metadata": {
    "collapsed": false,
    "scrolled": false
   },
   "outputs": [
    {
     "name": "stdout",
     "output_type": "stream",
     "text": [
      "[[0 0 0 0]\n",
      " [4 0 0 0]]\n",
      "[[], [0]]\n",
      "\n",
      "\n",
      "[[0 0 0 0]\n",
      " [5 0 0 0]]\n",
      "[[], [0]]\n"
     ]
    },
    {
     "data": {
      "text/plain": [
       "'\\nwhile(max(finish1 and finish2)!=4):\\n    gra(1)\\n    gra(2)\\n'"
      ]
     },
     "execution_count": 72,
     "metadata": {},
     "output_type": "execute_result"
    }
   ],
   "source": [
    "from random import*\n",
    "from numpy import*\n",
    "\n",
    "from sage.all import*\n",
    "     \n",
    "pieces = zeros((2, 4), int) \n",
    "piecesInGame = []\n",
    "piecesInGame.append([])\n",
    "piecesInGame.append([])\n",
    "\n",
    "finish = [0, 0]\n",
    "\n",
    "firstMove(pieces, piecesInGame, 1)\n",
    "print pieces\n",
    "print piecesInGame\n",
    "print \"\\n\"\n",
    "gra(pionki, pionkiWGrze, 1)\n",
    "\n",
    "print pionki\n",
    "print pionkiWGrze\n",
    "\n",
    "'''\n",
    "while(max(finish1 and finish2)!=4):\n",
    "    gra(1)\n",
    "    gra(2)\n",
    "'''"
   ]
  },
  {
   "cell_type": "code",
   "execution_count": null,
   "metadata": {
    "collapsed": true
   },
   "outputs": [],
   "source": []
  },
  {
   "cell_type": "code",
   "execution_count": null,
   "metadata": {
    "collapsed": true
   },
   "outputs": [],
   "source": []
  },
  {
   "cell_type": "code",
   "execution_count": null,
   "metadata": {
    "collapsed": true
   },
   "outputs": [],
   "source": []
  },
  {
   "cell_type": "code",
   "execution_count": null,
   "metadata": {
    "collapsed": true
   },
   "outputs": [],
   "source": []
  },
  {
   "cell_type": "code",
   "execution_count": null,
   "metadata": {
    "collapsed": true
   },
   "outputs": [],
   "source": []
  }
 ],
 "metadata": {
  "kernelspec": {
   "display_name": "Python 2 (SageMath)",
   "language": "python",
   "name": "python2"
  },
  "language_info": {
   "codemirror_mode": {
    "name": "ipython",
    "version": 2
   },
   "file_extension": ".py",
   "mimetype": "text/x-python",
   "name": "python",
   "nbconvert_exporter": "python",
   "pygments_lexer": "ipython2",
   "version": "2.7.10"
  }
 },
 "nbformat": 4,
 "nbformat_minor": 0
}
