{
 "cells": [
  {
   "cell_type": "code",
   "execution_count": null,
   "metadata": {
    "collapsed": false
   },
   "outputs": [],
   "source": [
    "def firstMove(pieces, piecesInGame, number):\n",
    "    counter = 3\n",
    "    dice = 0\n",
    "    while (dice != 6):\n",
    "        dice = randint(1, 6)\n",
    "        if (dice == 6):\n",
    "            piece = randint(0, 3)\n",
    "            pieces[number][piece] = 1\n",
    "            piecesInGame[number].append(piece)\n",
    "            pieces[number][piece] += randint(1, 6)\n",
    "            \n"
   ]
  }
 ],
 "metadata": {
  "kernelspec": {
   "display_name": "Python 2 (SageMath)",
   "language": "python",
   "name": "python2"
  },
  "language_info": {
   "codemirror_mode": {
    "name": "ipython",
    "version": 2
   },
   "file_extension": ".py",
   "mimetype": "text/x-python",
   "name": "python",
   "nbconvert_exporter": "python",
   "pygments_lexer": "ipython2",
   "version": "2.7.10"
  }
 },
 "nbformat": 4,
 "nbformat_minor": 0
}
